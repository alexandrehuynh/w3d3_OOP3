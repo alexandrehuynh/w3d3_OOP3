{
 "cells": [
  {
   "cell_type": "code",
   "execution_count": null,
   "id": "2dddb5aa-fbb8-4663-99ec-7d38dcfb612f",
   "metadata": {},
   "outputs": [],
   "source": [
    "# Count Palindromes\n",
    "# Given a list of strings, count the number of palindromes that occur inside of the list \n",
    "# (a palindrome is a word that is spelled the same backwards and forward).\n",
    "\n",
    "# Example input: ['dog', 'racecar', 'wildebeest']\n",
    "# Output: 1\n",
    "# Explanation: 'racecar' is the only palindrome in the list\n",
    "\n",
    "# Example input: ['kayak', 'level', 'word', 'smooth', 'detartrated']\n",
    "# Output: 3\n",
    "# Explanation: 'kayak', 'level', and 'detartrated' are all palindromes"
   ]
  },
  {
   "cell_type": "code",
   "execution_count": 35,
   "id": "af679f19-3dd6-461a-901b-e881c555f8c9",
   "metadata": {
    "tags": []
   },
   "outputs": [
    {
     "name": "stdout",
     "output_type": "stream",
     "text": [
      "3\n"
     ]
    }
   ],
   "source": [
    "words = ['kayak', 'level', 'word', 'smooth', 'detartrated']\n",
    "# pal_list = []\n",
    "count = 0\n",
    "# Take the list of words\n",
    "for word in words:\n",
    "    \n",
    "# for each word in the list, check if it is spelt backward the same forward\n",
    "    if (word == word[::-1]):\n",
    "        count +=1\n",
    "# if found add into new list\n",
    "        # pal_list.append(word)\n",
    "\n",
    "print(count)\n",
    "# return palindrome list"
   ]
  },
  {
   "cell_type": "code",
   "execution_count": 80,
   "id": "4212fc42-94b5-4750-986d-67512d4dc635",
   "metadata": {
    "tags": []
   },
   "outputs": [
    {
     "data": {
      "text/plain": [
       "3"
      ]
     },
     "execution_count": 80,
     "metadata": {},
     "output_type": "execute_result"
    }
   ],
   "source": [
    "def palindroms(word):\n",
    "    \n",
    "    # set count\n",
    "    count = 0\n",
    "    \n",
    "    # for each word in the list, check if it is spelt backward the same forward\n",
    "    for word in words:\n",
    "        \n",
    "        if (word == word[::-1]):\n",
    "           \n",
    "            # if found add into new list/increment counter\n",
    "            count +=1\n",
    "            # pal_list.append(word)\n",
    "\n",
    "    # return palindrome list    \n",
    "    return(count)\n",
    "\n",
    "words = ['kayak', 'level', 'word', 'smooth', 'detartrated']\n",
    "\n",
    "palindroms(words)"
   ]
  },
  {
   "cell_type": "code",
   "execution_count": 81,
   "id": "031fbbc4-b4f7-418b-ad08-f8d3beed30ca",
   "metadata": {
    "tags": []
   },
   "outputs": [
    {
     "name": "stdout",
     "output_type": "stream",
     "text": [
      "erdnaxela\n",
      "alexandre\n",
      "erdna\n",
      "['smooth', 'word', 'level', 'kayak']\n"
     ]
    }
   ],
   "source": [
    "### word = \"alexandre\"\n",
    "\n",
    "print(word[::-1])\n",
    "print(word[0::])\n",
    "print(word[:3:-1])\n",
    "print(words[3::-1])"
   ]
  }
 ],
 "metadata": {
  "kernelspec": {
   "display_name": "Python 3 (ipykernel)",
   "language": "python",
   "name": "python3"
  },
  "language_info": {
   "codemirror_mode": {
    "name": "ipython",
    "version": 3
   },
   "file_extension": ".py",
   "mimetype": "text/x-python",
   "name": "python",
   "nbconvert_exporter": "python",
   "pygments_lexer": "ipython3",
   "version": "3.11.5"
  }
 },
 "nbformat": 4,
 "nbformat_minor": 5
}
